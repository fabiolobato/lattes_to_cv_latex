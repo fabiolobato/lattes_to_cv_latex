{
 "cells": [
  {
   "cell_type": "code",
   "execution_count": 50,
   "id": "7f1872d2-b630-4648-8b21-79ac007cb6a7",
   "metadata": {},
   "outputs": [],
   "source": [
    "from bs4 import BeautifulSoup\n",
    "from googletrans import Translator\n",
    "from unidecode import unidecode\n",
    "import string"
   ]
  },
  {
   "cell_type": "code",
   "execution_count": 51,
   "id": "914e97c7-0c7c-41ae-a5d4-2637d60fbf48",
   "metadata": {},
   "outputs": [],
   "source": [
    "# Reading data from the xml file\n",
    "with open('cv3.xml', 'r', encoding='utf-8') as f:\n",
    "    data = f.read()\n",
    " \n"
   ]
  },
  {
   "cell_type": "code",
   "execution_count": 52,
   "id": "b121050e-e94f-4dea-9db5-528b2d5cdddf",
   "metadata": {},
   "outputs": [
    {
     "name": "stdout",
     "output_type": "stream",
     "text": [
      "Requirement already satisfied: unicodedata2 in /Users/fabiolobato/opt/anaconda3/lib/python3.9/site-packages (15.0.0)\n"
     ]
    }
   ],
   "source": [
    "!pip install unicodedata2\n"
   ]
  },
  {
   "cell_type": "code",
   "execution_count": 53,
   "id": "8e34244a-ebe6-4643-969c-b28ad7013b07",
   "metadata": {},
   "outputs": [],
   "source": [
    "import unicodedata"
   ]
  },
  {
   "cell_type": "code",
   "execution_count": 54,
   "id": "55d3e46a-307e-4525-8ef3-9825310657f5",
   "metadata": {},
   "outputs": [],
   "source": [
    "def remove_accents(data):\n",
    "    return ''.join(x for x in unicodedata.normalize('NFKD', data) if x in string.printable).lower()"
   ]
  },
  {
   "cell_type": "code",
   "execution_count": 55,
   "id": "08d54ec2-0df5-4646-b263-f57557000182",
   "metadata": {},
   "outputs": [],
   "source": [
    "translator = Translator()"
   ]
  },
  {
   "cell_type": "code",
   "execution_count": 60,
   "id": "fe740dda-f4b8-40a7-8260-1412414518a1",
   "metadata": {},
   "outputs": [
    {
     "name": "stdout",
     "output_type": "stream",
     "text": [
      "2018 Max Tatsuhiko Mitsuya Universidade Federal do Oeste do Pará RECURSOS NATURAIS DA AMAZÔNIA redes neurais, pso e me&#769;todos hi&#769;bridos como mppt para sistemas fotovoltaicos isolados em condic&#807;o&#771;es de sombreamento parcial Mestrado\n",
      "2019 Diego Pereira Mendes Universidade Estadual do Maranhão Programa de Pós-Graduação em Engenharia da Computação e Sistemas ferramenta de pre-processamento e visualizacao de dados do datasus Mestrado\n",
      "2019 Antônio Fabrício Guimarães de Sousa Universidade Federal do Oeste do Pará RECURSOS NATURAIS DA AMAZÔNIA redes neurais artificiais e intervalos de predicao para previsao de irradiancia solar Mestrado\n",
      "2019 Hugo Cardoso de Almeida Universidade Federal do Pará Psicologia (Teoria e Pesquisa do Comportamento) d+conhecimento: construc&#807;a&#771;o e avaliac&#807;a&#771;o de um serious game voltado para cuidadores de pessoas com deficie&#770;ncia Mestrado\n",
      "2019 Beatriz Nery Rodrigues Chagas Universidade Estadual do Maranhão Programa de Pós-Graduação em Engenharia da Computação e Sistemas aplicacoes de algoritmos de aprendizado de maquina em crm: revisao sistematica da literatura Mestrado\n",
      "2019 Luan Pereira Nascimento Corrêa Universidade Estadual do Maranhão Programa de Pós-Graduação em Engenharia da Computação e Sistemas ferramenta de extracao de dados de uma rede social baseada em servicos Mestrado\n",
      "2020 EMANUEL GILVAN SOUZA LIMA JÚNIOR Universidade Estadual do Maranhão Programa de Pós-Graduação em Engenharia da Computação e Sistemas uma solucao para fusao de dados em plataformas de resolucao de conflitos Mestrado\n",
      "2021 Breno Romero Mendes de Araújo Instituto Federal de Educação, Ciência e Tecnologia da Paraíba - IFPB Programa de Pós-Graduação em Propriedade Intelectual e Transferência de Tec dispositivo implementado por iot para contagem de produtos em gondolas e processo de automacao de estoques a distancia Mestrado\n",
      "2021 Gustavo Nogueira de Sousa Universidade Estadual do Maranhão Engenharia de  Computação e Sistemas analise inteligente de midias sociais para potencializar gestao do relacionamento com clientes Mestrado\n",
      "2021 Luiz Henrique Rowan Peixoto Universidade de São Paulo Matemática, Estatística e Computação Aplicadas à Indústria aprendizado de maquina aplicado no atendimento de  reclamacoes de clientes Mestrado\n",
      "2022 Leonardo Miranda de Brito Universidade Federal do Pará Genética e Biologia Molecular uma colecao de imagens de biopsia da mucosa gastrica para deteccao de helicobacter pylori por deep learning Mestrado\n",
      "2022 Rodrigo Gemaque de Almeida Universidade Federal do Oeste do Pará Propriedade Intelectual e Transferência de Tecnologia para a Inovação modelo de negocio multilateral na comercializacao de passagens aquaviarias no oeste do para por meio de uma aplicacao web Mestrado\n",
      "2022 Bruno Aparecido Barbosa Universidade de São Paulo Matemática, Estatística e Computação Aplicadas à Indústria predicao do movimento de acoes da petrobras a partir de noticias Mestrado\n",
      "2022 Paula Myrian Lima Pedroso Universidade Estadual do Maranhão Engenharia de  Computação e Sistemas estudo semantico de palavras fora do vocabulario utilizando redes neurais recorrentes Mestrado\n",
      "2022 Alessandra Do Nascimento Santana Inacio Universidade Federal do Sul e Sudeste do Pará Propriedade Intelectual e Transferência de Tecnologia para a Inovação incubadora de empresas como instrumento de transfere&#770;ncia de tecnologia e inovac&#807;a&#771;o para o desenvolvimento econo&#770;mico da regia&#771;o sudeste do para&#769; Mestrado\n",
      "2022 Ada Cristina França da Silva Universidade Estadual do Maranhão Engenharia de  Computação e Sistemas uma rede neural convolucional para segmentacao de imagens de minerio de ferro Mestrado\n",
      "2022 PAULA LOURENÇO MADEIRA Instituto Federal de Educação, Ciência e Tecnologia do Rio Grande do Sul Propriedade Intelectual e Transferência de Tecnologia para a Inovação boas praticas para gestao do desenvolvimento de algoritmos de direcionamento e influencia do comportamento humano Mestrado\n",
      "2023 Cláudia Patrícia Silva Pimentel Universidade Estadual do Maranhão Engenharia de  Computação e Sistemas aplicacao de tecnicas de aprendizagem de maquina com selecao de variaveis na previsao de receitas publicas de capitais brasileiras: estudo de caso das receitas transferidas de sao luis Mestrado\n",
      "2023 GRACELYNNE OLIVEIRA SANTOS Universidade Federal do Maranhão Propriedade Intelectual e Transferência de Tecnologia para a Inovação chatbot para bibliotecas: um assistente virtual para tirar duvidas relacionadas a lei de direito autoral Mestrado\n",
      "2022 Rodrigo Gemaque de Almeida Universidade Federal do Oeste do Pará Propriedade Intelectual e Transferência de Tecnologia para a Inovação um modelo de negocio multilateral para a comercializacao de passagens aquaviarias no oeste do para atraves de uma plataforma de e-commerce Mestrado\n"
     ]
    }
   ],
   "source": [
    "\n",
    "bs_data = BeautifulSoup(data, 'xml')\n",
    " \n",
    "b_unique = bs_data.find_all('PARTICIPACAO-EM-BANCA-DE-MESTRADO')\n",
    "\n",
    "lista = []\n",
    "for i in b_unique:\n",
    "    a = i.find(\"DADOS-BASICOS-DA-PARTICIPACAO-EM-BANCA-DE-MESTRADO\")\n",
    "   \n",
    "    b = i.find(\"DETALHAMENTO-DA-PARTICIPACAO-EM-BANCA-DE-MESTRADO\")\n",
    "\n",
    "    natureza = a.get(\"NATUREZA\")\n",
    "    titulo = a.get('TITULO')\n",
    "    if ('&#' in titulo):\n",
    "        titulo = unidecode(titulo)\n",
    "        \n",
    "    \n",
    "    ano = a.get(\"ANO\")\n",
    "\n",
    "    instituicao = b.get('NOME-INSTITUICAO')\n",
    "    \n",
    "    \n",
    "    curso = b.get('NOME-CURSO')\n",
    "    candidato = b.get('NOME-DO-CANDIDATO')\n",
    "\n",
    "    print(ano, candidato, instituicao, curso, remove_accents(titulo), natureza)\n",
    "    \n",
    "\n",
    "        \n",
    "        \n",
    "        \n",
    "       \n",
    "        #  Alessandro Aparecido Barcellos, Postgraduate Specialization in Computing Applied to Education, CAE-USP. \n",
    "        #Thesis title: Open Data Mining - ENEM 2018 (in pt-BR). Graduated: Dec 2020.\n",
    "    tag = \"\\\\item[\"+str(ano)+\"]\"+'\\n'+\"{\\em \"+candidato.title()+\"}\"+'\\n'+translator.translate(curso, dest='en').text+\", \"+translator.translate(instituicao, dest='en').text+\".\"+\" Thesis title: \"+translator.translate(titulo, dest='en').text.capitalize()+\" (in pt-BR).\"\n",
    "\n",
    "    lista.append(tag)\n",
    "\n"
   ]
  },
  {
   "cell_type": "raw",
   "id": "551f8116-9242-411c-b3d1-b99e5b2a5434",
   "metadata": {},
   "source": [
    "    instituicao = b.get('NOME-INSTITUICAO')\n",
    "    natureza = a.get(\"NATUREZA\")\n",
    "    titulo = a.get('TITULO-DO-TRABALHO')\n",
    "    curso = b.get('NOME-CURSO')\n",
    "    orientado = b.get('NOME-DO-ORIENTANDO')\n",
    "    tipo_orientacao = b.get('TIPO-DE-ORIENTACAO')\n",
    "    ano = a.get(\"ANO\")\n",
    "    print(ano, orientado)\n",
    "\n",
    "    if(tipo_orientacao == \"ORIENTADOR_PRINCIPAL\"):\n",
    "        s= 'Supervisor'\n",
    "    else:\n",
    "        s=\"Co-supervisor\"\n",
    "    \n",
    "    #  Alessandro Aparecido Barcellos, Postgraduate Specialization in Computing Applied to Education, CAE-USP. \n",
    "    #Thesis title: Open Data Mining - ENEM 2018 (in pt-BR). Graduated: Dec 2020.\n",
    "    tag = \"\\\\item[\"+str(ano)+\"]\"+'\\n'+\"{\\em \"+orientado.title()+\"}\"+'\\n'+translator.translate(curso, dest='en').text+\", \"+translator.translate(instituicao, dest='en').text+\".\"+\" Thesis Title: \"+translator.translate(titulo, dest='en').text.capitalize()+\" (in pt-BR).\"+ \" Role: \\\\textit{\"+s+\"}.\\n\"\n",
    "\n",
    "    lista.append(tag)\n",
    " "
   ]
  },
  {
   "cell_type": "code",
   "execution_count": 61,
   "id": "7bc8a20d-1d9a-415c-accd-fbbb88026371",
   "metadata": {},
   "outputs": [
    {
     "name": "stdout",
     "output_type": "stream",
     "text": [
      "\\item[2022]\n",
      "{\\em Rodrigo Gemaque De Almeida}\n",
      "Intellectual Property and Technology Transfer for Innovation, Federal University of Western Pará. Thesis title: A multilateral business model for the sale of waterway tickets in western pará through an e-commerce platform (in pt-BR).\n",
      "\\item[2023]\n",
      "{\\em Gracelynne Oliveira Santos}\n",
      "Intellectual Property and Technology Transfer for Innovation, Federal University of Maranhão. Thesis title: Chatbot for libraries: a virtual assistant to answer questions related to copyright law (in pt-BR).\n",
      "\\item[2023]\n",
      "{\\em Cláudia Patrícia Silva Pimentel}\n",
      "Computer and Systems Engineering, State University of Maranhão. Thesis title: Application of machine learning techniques with selection of variables in the forecast of government revenues of brazilian capital capitals: a case study of revenues transferred from são luís (in pt-BR).\n",
      "\\item[2022]\n",
      "{\\em Paula Lourenço Madeira}\n",
      "Intellectual Property and Technology Transfer for Innovation, Federal Institute of Education, Science and Technology of Rio Grande do Sul. Thesis title: Good practices for managing the development of targeting algorithms and influence of human behavior (in pt-BR).\n",
      "\\item[2022]\n",
      "{\\em Ada Cristina França Da Silva}\n",
      "Computer and Systems Engineering, State University of Maranhão. Thesis title: A convolutional neural network for iron ore image segmentation (in pt-BR).\n",
      "\\item[2022]\n",
      "{\\em Alessandra Do Nascimento Santana Inacio}\n",
      "Intellectual Property and Technology Transfer for Innovation, Federal University of the South and Southeast of Pará. Thesis title: Business incubator as a technology and innovation transfer instrument for the economic development of the southeast region of pará (in pt-BR).\n",
      "\\item[2022]\n",
      "{\\em Paula Myrian Lima Pedroso}\n",
      "Computer and Systems Engineering, State University of Maranhão. Thesis title: Semantic study of non-vocabulary words using recurrent neural networks (in pt-BR).\n",
      "\\item[2022]\n",
      "{\\em Bruno Aparecido Barbosa}\n",
      "Mathematics, Statistics and Computing Applied to Industry, University of Sao Paulo. Thesis title: Predicting the movement of petrobras shares based on news (in pt-BR).\n",
      "\\item[2022]\n",
      "{\\em Rodrigo Gemaque De Almeida}\n",
      "Intellectual Property and Technology Transfer for Innovation, Federal University of Western Pará. Thesis title: Multilateral business model in the marketing of waterway tickets in western pará through a web application (in pt-BR).\n",
      "\\item[2022]\n",
      "{\\em Leonardo Miranda De Brito}\n",
      "Genetics and Molecular Biology, Federal University of Pará. Thesis title: A collection of biopsy images of the gastric mucosa for detection of helicobacter pylori by deep learning (in pt-BR).\n",
      "\\item[2021]\n",
      "{\\em Luiz Henrique Rowan Peixoto}\n",
      "Mathematics, Statistics and Computing Applied to Industry, University of Sao Paulo. Thesis title: Machine learning applied to answering customer complaints (in pt-BR).\n",
      "\\item[2021]\n",
      "{\\em Gustavo Nogueira De Sousa}\n",
      "Computer and Systems Engineering, State University of Maranhão. Thesis title: Intelligent analysis of social media to enhance customer relationship management (in pt-BR).\n",
      "\\item[2021]\n",
      "{\\em Breno Romero Mendes De Araújo}\n",
      "Postgraduate Program in Intellectual Property and Tech Transfer, Federal Institute of Education, Science and Technology of Paraíba - IFPB. Thesis title: Device implemented by iot for counting products on shelves and remote inventory automation process (in pt-BR).\n",
      "\\item[2020]\n",
      "{\\em Emanuel Gilvan Souza Lima Júnior}\n",
      "Graduate Program in Computer and Systems Engineering, State University of Maranhão. Thesis title: A solution for data merger in dispute resolution platforms (in pt-BR).\n",
      "\\item[2019]\n",
      "{\\em Luan Pereira Nascimento Corrêa}\n",
      "Graduate Program in Computer and Systems Engineering, State University of Maranhão. Thesis title: Service-based social network data extraction tool (in pt-BR).\n",
      "\\item[2019]\n",
      "{\\em Beatriz Nery Rodrigues Chagas}\n",
      "Graduate Program in Computer and Systems Engineering, State University of Maranhão. Thesis title: Applications of machine learning algorithms in crm: systematic literature review (in pt-BR).\n",
      "\\item[2019]\n",
      "{\\em Hugo Cardoso De Almeida}\n",
      "Psychology (Theory and Research of Behavior), Federal University of Pará. Thesis title: D+knowledge: construction and evaluation of a serious game aimed at caregivers of people with disabilities (in pt-BR).\n",
      "\\item[2019]\n",
      "{\\em Antônio Fabrício Guimarães De Sousa}\n",
      "NATURAL RESOURCES OF THE AMAZON, Federal University of Western Pará. Thesis title: Artificial neural networks and prediction intervals for solar irradiance prediction (in pt-BR).\n",
      "\\item[2019]\n",
      "{\\em Diego Pereira Mendes}\n",
      "Graduate Program in Computer and Systems Engineering, State University of Maranhão. Thesis title: Datasus pre-processing and data visualization tool (in pt-BR).\n",
      "\\item[2018]\n",
      "{\\em Max Tatsuhiko Mitsuya}\n",
      "NATURAL RESOURCES OF THE AMAZON, Federal University of Western Pará. Thesis title: Neural networks, pso and hybrid methods like mppt for isolated photovoltaic systems under partial shading conditions (in pt-BR).\n"
     ]
    }
   ],
   "source": [
    "lista.reverse()\n",
    "for i in lista:\n",
    "    print(i)"
   ]
  },
  {
   "cell_type": "code",
   "execution_count": null,
   "id": "649f292c-8734-44ad-9ee0-0ef9295e213f",
   "metadata": {},
   "outputs": [],
   "source": []
  }
 ],
 "metadata": {
  "kernelspec": {
   "display_name": "Python 3 (ipykernel)",
   "language": "python",
   "name": "python3"
  },
  "language_info": {
   "codemirror_mode": {
    "name": "ipython",
    "version": 3
   },
   "file_extension": ".py",
   "mimetype": "text/x-python",
   "name": "python",
   "nbconvert_exporter": "python",
   "pygments_lexer": "ipython3",
   "version": "3.9.15"
  }
 },
 "nbformat": 4,
 "nbformat_minor": 5
}
