{
 "cells": [
  {
   "cell_type": "code",
   "execution_count": 2,
   "id": "7f1872d2-b630-4648-8b21-79ac007cb6a7",
   "metadata": {},
   "outputs": [],
   "source": [
    "from bs4 import BeautifulSoup\n",
    "from googletrans import Translator\n"
   ]
  },
  {
   "cell_type": "code",
   "execution_count": 3,
   "id": "914e97c7-0c7c-41ae-a5d4-2637d60fbf48",
   "metadata": {},
   "outputs": [],
   "source": [
    "# Reading data from the xml file\n",
    "with open('cv3.xml', 'r', encoding='utf-8') as f:\n",
    "    data = f.read()\n",
    " \n"
   ]
  },
  {
   "cell_type": "code",
   "execution_count": 4,
   "id": "08d54ec2-0df5-4646-b263-f57557000182",
   "metadata": {},
   "outputs": [],
   "source": [
    "translator = Translator()"
   ]
  },
  {
   "cell_type": "code",
   "execution_count": 6,
   "id": "fe740dda-f4b8-40a7-8260-1412414518a1",
   "metadata": {},
   "outputs": [
    {
     "name": "stdout",
     "output_type": "stream",
     "text": [
      "2022 Wanderson Gonçalves e Gonçalves Universidade Federal do Pará ONCOLOGIA Rede Neural Convolucional na Infecção por Helicobacter Pylori Doutorado\n"
     ]
    }
   ],
   "source": [
    "\n",
    "bs_data = BeautifulSoup(data, 'xml')\n",
    " \n",
    "b_unique = bs_data.find_all('ARTIGO-PUBLICADO')\n",
    "\n",
    "lista = []\n",
    "for i in b_unique:\n",
    "    a = i.find(\"DADOS-BASICOS-DA-PARTICIPACAO-EM-BANCA-DE-DOUTORADO\")\n",
    "   \n",
    "    b = i.find(\"DETALHAMENTO-DA-PARTICIPACAO-EM-BANCA-DE-DOUTORADO\")\n",
    "\n",
    "    natureza = a.get(\"NATUREZA\")\n",
    "    titulo = a.get('TITULO')\n",
    "    if ('&#' in titulo):\n",
    "        titulo = unidecode(titulo)\n",
    "        \n",
    "    \n",
    "    ano = a.get(\"ANO\")\n",
    "\n",
    "    instituicao = b.get('NOME-INSTITUICAO')\n",
    "    \n",
    "    \n",
    "    curso = b.get('NOME-CURSO')\n",
    "    candidato = b.get('NOME-DO-CANDIDATO')\n",
    "\n",
    "    print(ano, candidato, instituicao, curso, titulo, natureza)\n",
    "    \n",
    "\n",
    "        \n",
    "        \n",
    "        \n",
    "       \n",
    "        #  Alessandro Aparecido Barcellos, Postgraduate Specialization in Computing Applied to Education, CAE-USP. \n",
    "        #Thesis title: Open Data Mining - ENEM 2018 (in pt-BR). Graduated: Dec 2020.\n",
    "    tag = \"\\\\item[\"+str(ano)+\"]\"+'\\n'+\"{\\em \"+candidato.title()+\"}\"+'\\n'+translator.translate(curso, dest='en').text+\", \"+translator.translate(instituicao, dest='en').text+\".\"+\" Thesis title: \"+translator.translate(titulo, dest='en').text.capitalize()+\" (in pt-BR).\"\n",
    "\n",
    "    lista.append(tag)\n",
    "\n"
   ]
  },
  {
   "cell_type": "code",
   "execution_count": 7,
   "id": "7bc8a20d-1d9a-415c-accd-fbbb88026371",
   "metadata": {},
   "outputs": [
    {
     "name": "stdout",
     "output_type": "stream",
     "text": [
      "\\item[2022]\n",
      "{\\em Wanderson Gonçalves E Gonçalves}\n",
      "ONCOLOGY, Federal University of Pará. Thesis title: Convolutional neural network in helicobacter pylori infection (in pt-BR).\n"
     ]
    }
   ],
   "source": [
    "lista.reverse()\n",
    "for i in lista:\n",
    "    print(i)"
   ]
  },
  {
   "cell_type": "code",
   "execution_count": null,
   "id": "649f292c-8734-44ad-9ee0-0ef9295e213f",
   "metadata": {},
   "outputs": [],
   "source": []
  }
 ],
 "metadata": {
  "kernelspec": {
   "display_name": "Python 3 (ipykernel)",
   "language": "python",
   "name": "python3"
  },
  "language_info": {
   "codemirror_mode": {
    "name": "ipython",
    "version": 3
   },
   "file_extension": ".py",
   "mimetype": "text/x-python",
   "name": "python",
   "nbconvert_exporter": "python",
   "pygments_lexer": "ipython3",
   "version": "3.9.15"
  }
 },
 "nbformat": 4,
 "nbformat_minor": 5
}
