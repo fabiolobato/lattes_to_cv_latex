{
 "cells": [
  {
   "cell_type": "code",
   "execution_count": 1,
   "id": "7f1872d2-b630-4648-8b21-79ac007cb6a7",
   "metadata": {},
   "outputs": [],
   "source": [
    "from bs4 import BeautifulSoup\n",
    "from googletrans import Translator\n",
    "import pandas as pd\n",
    "from googletrans import Translator\n",
    "from googletrans import LANGUAGES\n"
   ]
  },
  {
   "cell_type": "code",
   "execution_count": 2,
   "id": "914e97c7-0c7c-41ae-a5d4-2637d60fbf48",
   "metadata": {},
   "outputs": [],
   "source": [
    "# Reading data from the xml file\n",
    "with open('CV_03_04.xml', 'r', encoding='UTF-*') as f:\n",
    "    data = f.read()\n",
    " \n"
   ]
  },
  {
   "cell_type": "code",
   "execution_count": 3,
   "id": "08d54ec2-0df5-4646-b263-f57557000182",
   "metadata": {},
   "outputs": [],
   "source": [
    "translator = Translator()"
   ]
  },
  {
   "cell_type": "markdown",
   "id": "8a87901b-249a-4d38-a980-6310112ad51a",
   "metadata": {},
   "source": [
    "## teste\n",
    "ATUACAO-PROFISSIONAL CODIGO-INSTITUICAO=\"003600000995\" NOME-INSTITUICAO=\"ANNALS OF BIOMEDICAL ENGINEERING\" SEQUENCIA-ATIVIDADE=\"26\" SEQUENCIA-IMPORTANCIA=\"\">\n",
    "<VINCULOS SEQUENCIA-HISTORICO=\"1\" TIPO-DE-VINCULO=\"LIVRE\" ENQUADRAMENTO-FUNCIONAL=\"LIVRE\" CARGA-HORARIA-SEMANAL=\"\" FLAG-DEDICACAO-EXCLUSIVA=\"NAO\" MES-INICIO=\"09\" ANO-INICIO=\"2020\" MES-FIM=\"10\" ANO-FIM=\"2020\" OUTRAS-INFORMACOES=\"\" FLAG-VINCULO-EMPREGATICIO=\"SIM\" OUTRO-VINCULO-INFORMADO=\"Revisor de periódico\" OUTRO-ENQUADRAMENTO-FUNCIONAL-INFORMADO=\"\" OUTRO-ENQUADRAMENTO-FUNCIONAL-INFORMADO-INGLES=\"\" OUTRAS-INFORMACOES-INGLES=\"\"/>\n",
    "</ATUACAO-PROFISSIONAL>"
   ]
  },
  {
   "cell_type": "code",
   "execution_count": 8,
   "id": "fe740dda-f4b8-40a7-8260-1412414518a1",
   "metadata": {},
   "outputs": [],
   "source": [
    "bs_data = BeautifulSoup(data, 'xml')\n",
    "b_unique = bs_data.find_all('ATUACAO-PROFISSIONAL')\n",
    "\n",
    "#Parte A(0)\n",
    "nome_periodico = []\n",
    "\n",
    "#Parte B\n",
    "ano_inicio = []\n",
    "ano_final = []\n",
    "vinculo = []\n",
    "\n",
    "for i in b_unique:\n",
    "    \n",
    "    nome_periodico.append(i.get('NOME-INSTITUICAO'))\n",
    "    \n",
    "    a = i.find(\"VINCULOS\")\n",
    "    ano_inicio.append(a.get('ANO-INICIO'))\n",
    "    ano_final.append(a.get('ANO-FIM'))\n",
    "    vinculo.append(a.get('OUTRO-VINCULO-INFORMADO'))\n",
    "\n",
    "\n",
    "       \n",
    "df = pd.DataFrame()\n",
    "\n",
    "\n",
    "df['periodico'] = nome_periodico\n",
    "df['inicio'] = ano_inicio\n",
    "df['fim'] = ano_final\n",
    "df['vinculo'] = vinculo\n",
    "\n",
    "\n"
   ]
  },
  {
   "cell_type": "code",
   "execution_count": 12,
   "id": "19c41e26-c7d1-4751-9ae0-56c5dbc8f4aa",
   "metadata": {},
   "outputs": [],
   "source": [
    "\n",
    "\n",
    "def corrente(x):\n",
    "    retorno = x\n",
    "    if(str(x)==''):\n",
    "        retorno = 'current'\n",
    "    return retorno\n",
    "df['fim'] = df['fim'].apply(lambda x: corrente(x)) "
   ]
  },
  {
   "cell_type": "code",
   "execution_count": 16,
   "id": "2b11e583-65ae-4f7f-844e-114ee23ffd9b",
   "metadata": {},
   "outputs": [],
   "source": [
    "df = df.sort_values(by=['inicio'], ascending=False)"
   ]
  },
  {
   "cell_type": "code",
   "execution_count": 17,
   "id": "e7a6d2bc-8821-4645-a743-ed9a7480fca3",
   "metadata": {},
   "outputs": [
    {
     "data": {
      "text/plain": [
       "Index(['periodico', 'inicio', 'fim', 'vinculo'], dtype='object')"
      ]
     },
     "execution_count": 17,
     "metadata": {},
     "output_type": "execute_result"
    }
   ],
   "source": [
    "df.columns"
   ]
  },
  {
   "cell_type": "code",
   "execution_count": 20,
   "id": "4f416fc5-4bda-4468-821e-802847a07175",
   "metadata": {},
   "outputs": [
    {
     "data": {
      "text/html": [
       "<div>\n",
       "<style scoped>\n",
       "    .dataframe tbody tr th:only-of-type {\n",
       "        vertical-align: middle;\n",
       "    }\n",
       "\n",
       "    .dataframe tbody tr th {\n",
       "        vertical-align: top;\n",
       "    }\n",
       "\n",
       "    .dataframe thead th {\n",
       "        text-align: right;\n",
       "    }\n",
       "</style>\n",
       "<table border=\"1\" class=\"dataframe\">\n",
       "  <thead>\n",
       "    <tr style=\"text-align: right;\">\n",
       "      <th></th>\n",
       "      <th>periodico</th>\n",
       "      <th>inicio</th>\n",
       "      <th>fim</th>\n",
       "      <th>vinculo</th>\n",
       "    </tr>\n",
       "  </thead>\n",
       "  <tbody>\n",
       "    <tr>\n",
       "      <th>30</th>\n",
       "      <td>HELIYON</td>\n",
       "      <td>2022</td>\n",
       "      <td>current</td>\n",
       "      <td>Revisor de periódico</td>\n",
       "    </tr>\n",
       "    <tr>\n",
       "      <th>28</th>\n",
       "      <td>International Journal of Knowledge Management ...</td>\n",
       "      <td>2022</td>\n",
       "      <td>2022</td>\n",
       "      <td>Revisor de periódico</td>\n",
       "    </tr>\n",
       "    <tr>\n",
       "      <th>27</th>\n",
       "      <td>Culturas Midiáticas</td>\n",
       "      <td>2021</td>\n",
       "      <td>current</td>\n",
       "      <td>Revisor de periódico</td>\n",
       "    </tr>\n",
       "  </tbody>\n",
       "</table>\n",
       "</div>"
      ],
      "text/plain": [
       "                                            periodico inicio      fim  \\\n",
       "30                                            HELIYON   2022  current   \n",
       "28  International Journal of Knowledge Management ...   2022     2022   \n",
       "27                                Culturas Midiáticas   2021  current   \n",
       "\n",
       "                 vinculo  \n",
       "30  Revisor de periódico  \n",
       "28  Revisor de periódico  \n",
       "27  Revisor de periódico  "
      ]
     },
     "execution_count": 20,
     "metadata": {},
     "output_type": "execute_result"
    }
   ],
   "source": [
    "df_revisor = df.loc[df['vinculo']=='Revisor de periódico']\n",
    "df_revisor.head(3)"
   ]
  },
  {
   "cell_type": "code",
   "execution_count": 24,
   "id": "6ae6333b-5bd5-4f52-adb8-59b5a2227f70",
   "metadata": {},
   "outputs": [
    {
     "name": "stdout",
     "output_type": "stream",
     "text": [
      "\\item Heliyon,  Period: 2022 -- current\n",
      "\\item International Journal Of Knowledge Management Studies (Online),  Period: 2022 -- 2022\n",
      "\\item Culturas Midiáticas,  Period: 2021 -- current\n",
      "\\item Revista Univap,  Period: 2021 -- 2022\n",
      "\\item Computer Journal,  Period: 2021 -- 2021\n",
      "\\item Learning And Nonlinear Models,  Period: 2021 -- 2021\n",
      "\\item Annals Of Biomedical Engineering,  Period: 2020 -- 2020\n",
      "\\item American Journal Of Theoretical And Applied Statistics,  Period: 2019 -- 2019\n",
      "\\item Soft Computing,  Period: 2019 -- 2020\n",
      "\\item Mathematical Population Studies,  Period: 2018 -- 2019\n",
      "\\item Journal Of Experimental And Theoretical Artificial Intelligence (Online),  Period: 2018 -- 2018\n",
      "\\item Applied Computing And Informatics,  Period: 2018 -- 2018\n",
      "\\item Future Generation Computer Systems-The International Journal Of Escience,  Period: 2018 -- 2018\n",
      "\\item Ieee Access,  Period: 2018 -- current\n",
      "\\item Telematics And Informatics,  Period: 2018 -- 2018\n",
      "\\item Artificial Intelligence Review,  Period: 2017 -- 2018\n",
      "\\item Information Processing In Agriculture,  Period: 2017 -- 2018\n",
      "\\item International Journal Of Biomathematics,  Period: 2016 -- 2016\n",
      "\\item Electronic Markets,  Period: 2016 -- 2020\n",
      "\\item European Journal Of Operational Research,  Period: 2013 -- 2013\n"
     ]
    }
   ],
   "source": [
    "#[FASE]: International Conference on Fundamental Approaches to Software Engineering 2023. Role: Artifact Evaluation Committee Chair\n",
    "#Index(['natureza', 'titulo', 'ano', 'promotora', 'local', 'cidade', 'autores'], dtype='object')\n",
    "\n",
    "for index, row in df_revisor.iterrows():\n",
    "\n",
    "\n",
    "        \n",
    "    print('\\item',  row.periodico.title()+', ', 'Period: '+row.inicio+' -- '+row.fim)\n",
    "       "
   ]
  },
  {
   "cell_type": "code",
   "execution_count": null,
   "id": "df1acce5-a8ba-4a22-95d0-13fa22c59f43",
   "metadata": {},
   "outputs": [],
   "source": []
  },
  {
   "cell_type": "code",
   "execution_count": null,
   "id": "d96dcc8d-1234-4210-930e-6062c53fea72",
   "metadata": {},
   "outputs": [],
   "source": []
  }
 ],
 "metadata": {
  "kernelspec": {
   "display_name": "Python 3 (ipykernel)",
   "language": "python",
   "name": "python3"
  },
  "language_info": {
   "codemirror_mode": {
    "name": "ipython",
    "version": 3
   },
   "file_extension": ".py",
   "mimetype": "text/x-python",
   "name": "python",
   "nbconvert_exporter": "python",
   "pygments_lexer": "ipython3",
   "version": "3.9.15"
  }
 },
 "nbformat": 4,
 "nbformat_minor": 5
}
