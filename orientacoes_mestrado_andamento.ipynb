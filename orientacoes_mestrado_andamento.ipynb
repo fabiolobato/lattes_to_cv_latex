{
 "cells": [
  {
   "cell_type": "code",
   "execution_count": 87,
   "id": "7f1872d2-b630-4648-8b21-79ac007cb6a7",
   "metadata": {},
   "outputs": [],
   "source": [
    "from bs4 import BeautifulSoup\n",
    "from googletrans import Translator\n"
   ]
  },
  {
   "cell_type": "code",
   "execution_count": 88,
   "id": "914e97c7-0c7c-41ae-a5d4-2637d60fbf48",
   "metadata": {},
   "outputs": [],
   "source": [
    "# Reading data from the xml file\n",
    "with open('cv2.xml', 'r', encoding='utf-8') as f:\n",
    "    data = f.read()\n",
    " "
   ]
  },
  {
   "cell_type": "code",
   "execution_count": 90,
   "id": "08d54ec2-0df5-4646-b263-f57557000182",
   "metadata": {},
   "outputs": [],
   "source": [
    "translator = Translator()"
   ]
  },
  {
   "cell_type": "code",
   "execution_count": 108,
   "id": "fe740dda-f4b8-40a7-8260-1412414518a1",
   "metadata": {},
   "outputs": [
    {
     "name": "stdout",
     "output_type": "stream",
     "text": [
      "2022 MANUELE MARQUES RODRIGUES\n",
      "2021 Marcos Vinicius Januário Da Silva\n",
      "2021 Alessandra Giselle Silva Batista\n",
      "2021 BARBARA ADRIANA PIRES BARATA\n",
      "2021 DIOGENES ADEMIR DOMINGOS\n",
      "2021 FABRÍCIO ALMEIDA DO CARMO\n",
      "2023 Márcia Waimer Spínola Arouca\n"
     ]
    }
   ],
   "source": [
    "\n",
    "bs_data = BeautifulSoup(data, 'xml')\n",
    " \n",
    "b_unique = bs_data.find_all('ORIENTACAO-EM-ANDAMENTO-DE-MESTRADO')\n",
    "lista = []\n",
    "for i in b_unique:\n",
    "    a = i.find(\"DADOS-BASICOS-DA-ORIENTACAO-EM-ANDAMENTO-DE-MESTRADO\")\n",
    "   \n",
    "    b = i.find(\"DETALHAMENTO-DA-ORIENTACAO-EM-ANDAMENTO-DE-MESTRADO\")\n",
    "    instituicao = b.get('NOME-INSTITUICAO')\n",
    "    natureza = a.get(\"NATUREZA\")\n",
    "    titulo = a.get('TITULO-DO-TRABALHO')\n",
    "    curso = b.get('NOME-CURSO')\n",
    "    orientado = b.get('NOME-DO-ORIENTANDO')\n",
    "    tipo_orientacao = b.get('TIPO-DE-ORIENTACAO')\n",
    "    ano = a.get(\"ANO\")\n",
    "    print(ano, orientado)\n",
    "\n",
    "    if(tipo_orientacao == \"ORIENTADOR_PRINCIPAL\"):\n",
    "        s= 'Supervisor'\n",
    "    else:\n",
    "        s=\"Co-supervisor\"\n",
    "    \n",
    "    #  Alessandro Aparecido Barcellos, Postgraduate Specialization in Computing Applied to Education, CAE-USP. \n",
    "    #Thesis title: Open Data Mining - ENEM 2018 (in pt-BR). Graduated: Dec 2020.\n",
    "    tag = \"\\\\item[\"+str(ano)+\"]\"+'\\n'+\"{\\em \"+orientado.title()+\"}\"+'\\n'+translator.translate(curso, dest='en').text+\", \"+translator.translate(instituicao, dest='en').text+\".\"+\" Thesis Title: \"+translator.translate(titulo, dest='en').text.capitalize()+\" (in pt-BR).\"+ \" Role: \\\\textit{\"+s+\"}.\\n\"\n",
    "\n",
    "    lista.append(tag)\n",
    " "
   ]
  },
  {
   "cell_type": "code",
   "execution_count": 109,
   "id": "7bc8a20d-1d9a-415c-accd-fbbb88026371",
   "metadata": {},
   "outputs": [
    {
     "name": "stdout",
     "output_type": "stream",
     "text": [
      "\\item[2023]\n",
      "{\\em Márcia Waimer Spínola Arouca}\n",
      "Intellectual Property and Technology Transfer for Innovation, Federal University of Western Pará. Thesis Title: Feasibility study and implementation strategies of a technology-based incubator in the interior of the amazon (in pt-BR). Role: \\textit{Supervisor}.\n",
      "\n",
      "\\item[2021]\n",
      "{\\em Fabrício Almeida Do Carmo}\n",
      "Computer and Systems Engineering, State University of Maranhão. Thesis Title: Trustworthy ai: explainability and transparency in legal systems (in pt-BR). Role: \\textit{Supervisor}.\n",
      "\n",
      "\\item[2021]\n",
      "{\\em Diogenes Ademir Domingos}\n",
      "Computer and Systems Engineering, State University of Maranhão. Thesis Title: Analysis of precedents: a case study in the court of justice of maranhão (in pt-BR). Role: \\textit{Supervisor}.\n",
      "\n",
      "\\item[2021]\n",
      "{\\em Barbara Adriana Pires Barata}\n",
      "Computer and Systems Engineering, State University of Maranhão. Thesis Title: Analysis of prevention based on artificial intelligence: a case study in the court of justice of maranhão (in pt-BR). Role: \\textit{Supervisor}.\n",
      "\n",
      "\\item[2021]\n",
      "{\\em Alessandra Giselle Silva Batista}\n",
      "Intellectual Property and Technology Transfer for Innovation, Federal University of Western Pará. Thesis Title: Strategies for digitizing micro and small businesses during the coronacrisis (in pt-BR). Role: \\textit{Supervisor}.\n",
      "\n",
      "\\item[2021]\n",
      "{\\em Marcos Vinicius Januário Da Silva}\n",
      "Computer and Systems Engineering, State University of Maranhão. Thesis Title: Classification of stj judgment documents using stacking ensemble learning (in pt-BR). Role: \\textit{Co-supervisor}.\n",
      "\n",
      "\\item[2022]\n",
      "{\\em Manuele Marques Rodrigues}\n",
      "Intellectual Property and Technology Transfer for Innovation, Federal University of Western Pará. Thesis Title: Professional training for the creation and use of decentralized institutional profiles in social media (in pt-BR). Role: \\textit{Supervisor}.\n",
      "\n"
     ]
    }
   ],
   "source": [
    "lista.reverse()\n",
    "for i in lista:\n",
    "    print(i)"
   ]
  },
  {
   "cell_type": "code",
   "execution_count": null,
   "id": "649f292c-8734-44ad-9ee0-0ef9295e213f",
   "metadata": {},
   "outputs": [],
   "source": []
  }
 ],
 "metadata": {
  "kernelspec": {
   "display_name": "Python 3 (ipykernel)",
   "language": "python",
   "name": "python3"
  },
  "language_info": {
   "codemirror_mode": {
    "name": "ipython",
    "version": 3
   },
   "file_extension": ".py",
   "mimetype": "text/x-python",
   "name": "python",
   "nbconvert_exporter": "python",
   "pygments_lexer": "ipython3",
   "version": "3.9.15"
  }
 },
 "nbformat": 4,
 "nbformat_minor": 5
}
