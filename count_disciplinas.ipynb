{
 "cells": [
  {
   "cell_type": "code",
   "execution_count": 3,
   "id": "2075dbaa-54ae-4010-8c82-f0704123bba6",
   "metadata": {},
   "outputs": [],
   "source": [
    "with open('untitled1.txt', 'r', encoding='UTF-8') as f:\n",
    "    data = f.readlines()\n",
    "    "
   ]
  },
  {
   "cell_type": "code",
   "execution_count": 9,
   "id": "c8a7bf4e-824f-4551-9224-9a3b010e9c67",
   "metadata": {},
   "outputs": [],
   "source": [
    "lista = []\n",
    "for i in data:\n",
    "    if '&' in i:\n",
    "        lista.append(i.strip().replace('\\\\','').strip().split('&')[1].strip())\n"
   ]
  },
  {
   "cell_type": "code",
   "execution_count": 10,
   "id": "ffb70a19-2a74-4b54-bb6b-b2e104c827f1",
   "metadata": {},
   "outputs": [
    {
     "data": {
      "text/plain": [
       "44"
      ]
     },
     "execution_count": 10,
     "metadata": {},
     "output_type": "execute_result"
    }
   ],
   "source": [
    "len(lista)"
   ]
  },
  {
   "cell_type": "code",
   "execution_count": 12,
   "id": "a7054c56-b0ff-4222-849b-682c52baa30e",
   "metadata": {},
   "outputs": [
    {
     "data": {
      "text/plain": [
       "24"
      ]
     },
     "execution_count": 12,
     "metadata": {},
     "output_type": "execute_result"
    }
   ],
   "source": [
    "len(set(lista))"
   ]
  },
  {
   "cell_type": "code",
   "execution_count": 15,
   "id": "5ea9e971-df66-4eeb-a1cd-9fe6df8ceb94",
   "metadata": {},
   "outputs": [
    {
     "data": {
      "text/plain": [
       "Counter({'Formal languages and automata theory': 7,\n",
       "         'Methodology of scientific research': 5,\n",
       "         'Special topics on artificial intelligence': 1,\n",
       "         'Artificial intelligence': 1,\n",
       "         'Data science': 1,\n",
       "         'Machine learning': 1,\n",
       "         'Advanced topics in artificial intelligence': 2,\n",
       "         'Integrative seminar': 1,\n",
       "         'Special topics on computational intelligence': 3,\n",
       "         'Special topics on machine learning': 1,\n",
       "         'Information and Communication Technologies': 1,\n",
       "         'Data structures': 5,\n",
       "         'Web programming': 1,\n",
       "         'Information and communication Technologies': 1,\n",
       "         'Formal languages and automata': 1,\n",
       "         'Introduction to computer science': 2,\n",
       "         'Computing theory': 1,\n",
       "         'Programming logic': 1,\n",
       "         'Knowledge engineering': 1,\n",
       "         'Computational intelligence': 1,\n",
       "         'Theory of computation and computability': 2,\n",
       "         'Compilers': 1,\n",
       "         'Algorithm analysis and design': 1,\n",
       "         'Costs, benefits and organizational impacts of information systems': 2})"
      ]
     },
     "execution_count": 15,
     "metadata": {},
     "output_type": "execute_result"
    }
   ],
   "source": [
    "from collections import Counter\n",
    "Counter(lista)"
   ]
  },
  {
   "cell_type": "code",
   "execution_count": null,
   "id": "51412dfc-0915-4188-a69d-4a41e521e0d3",
   "metadata": {},
   "outputs": [],
   "source": []
  }
 ],
 "metadata": {
  "kernelspec": {
   "display_name": "Python 3 (ipykernel)",
   "language": "python",
   "name": "python3"
  },
  "language_info": {
   "codemirror_mode": {
    "name": "ipython",
    "version": 3
   },
   "file_extension": ".py",
   "mimetype": "text/x-python",
   "name": "python",
   "nbconvert_exporter": "python",
   "pygments_lexer": "ipython3",
   "version": "3.9.15"
  }
 },
 "nbformat": 4,
 "nbformat_minor": 5
}
