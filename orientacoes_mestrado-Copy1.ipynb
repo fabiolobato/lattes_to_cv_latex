{
 "cells": [
  {
   "cell_type": "code",
   "execution_count": 67,
   "id": "7f1872d2-b630-4648-8b21-79ac007cb6a7",
   "metadata": {},
   "outputs": [],
   "source": [
    "from bs4 import BeautifulSoup\n",
    "from googletrans import Translator\n"
   ]
  },
  {
   "cell_type": "code",
   "execution_count": 70,
   "id": "914e97c7-0c7c-41ae-a5d4-2637d60fbf48",
   "metadata": {},
   "outputs": [],
   "source": [
    "# Reading data from the xml file\n",
    "with open('cv2.xml', 'r', encoding='utf-8') as f:\n",
    "    data = f.read()\n",
    " "
   ]
  },
  {
   "cell_type": "code",
   "execution_count": 71,
   "id": "08d54ec2-0df5-4646-b263-f57557000182",
   "metadata": {},
   "outputs": [],
   "source": [
    "translator = Translator()"
   ]
  },
  {
   "cell_type": "code",
   "execution_count": 85,
   "id": "fe740dda-f4b8-40a7-8260-1412414518a1",
   "metadata": {},
   "outputs": [],
   "source": [
    "\n",
    "bs_data = BeautifulSoup(data, 'xml')\n",
    " \n",
    "b_unique = bs_data.find_all('ORIENTACOES-CONCLUIDAS-PARA-MESTRADO')\n",
    "lista = []\n",
    "for i in b_unique:\n",
    "    a = i.find(\"DADOS-BASICOS-DE-ORIENTACOES-CONCLUIDAS-PARA-MESTRADO\")\n",
    "    b = i.find(\"DETALHAMENTO-DE-ORIENTACOES-CONCLUIDAS-PARA-MESTRADO\")\n",
    "    instituicao = b.get(\"NOME-DA-INSTITUICAO\")\n",
    "    natureza = a.get(\"NATUREZA\")\n",
    "    titulo = a.get(\"TITULO\")\n",
    "    curso = b.get(\"NOME-DO-CURSO\")\n",
    "    orientado = b.get(\"NOME-DO-ORIENTADO\")\n",
    "    tipo_orientacao = b.get(\"TIPO-DE-ORIENTACAO\")\n",
    "    ano = a.get(\"ANO\")\n",
    "\n",
    "    if(tipo_orientacao == \"ORIENTADOR_PRINCIPAL\"):\n",
    "        s= 'Supervisor'\n",
    "    else:\n",
    "        s=\"Co-supervisor\"\n",
    "    \n",
    "    #  Alessandro Aparecido Barcellos, Postgraduate Specialization in Computing Applied to Education, CAE-USP. \n",
    "    #Thesis title: Open Data Mining - ENEM 2018 (in pt-BR). Graduated: Dec 2020.\n",
    "    tag = \"\\\\item[\"+ano+\"]\"+'\\n'+\"{\\em \"+orientado+\"}\"+'\\n'+translator.translate(curso, dest='en').text+\", \"+translator.translate(instituicao, dest='en').text+\".\"+\" Thesis Title: \"+translator.translate(titulo, dest='en').text.capitalize()+\" (in pt-BR).\"+ \" Role: \\\\textit{\"+s+\"}.\\n\"\n",
    "\n",
    "    lista.append(tag)\n",
    " "
   ]
  },
  {
   "cell_type": "code",
   "execution_count": 86,
   "id": "7bc8a20d-1d9a-415c-accd-fbbb88026371",
   "metadata": {},
   "outputs": [
    {
     "name": "stdout",
     "output_type": "stream",
     "text": [
      "\\item[2022]\n",
      "{\\em Paula Myrian Lima Pedroso}\n",
      "Graduate Program in Computer and Systems Engineering, State University of Maranhão. Thesis Title: Semantic study of non-vocabulary words using recurrent neural networks (in pt-BR). Role: \\textit{Co-supervisor}.\n",
      "\n",
      "\\item[2023]\n",
      "{\\em Cláudia Patrícia Silva Pimentel}\n",
      "Computer and Systems Engineering, State University of Maranhão. Thesis Title: Application of machine learning techniques with selection of variables in the forecast of government revenues of brazilian capital capitals: a case study of revenues transferred from são luís (in pt-BR). Role: \\textit{Co-supervisor}.\n",
      "\n",
      "\\item[2020]\n",
      "{\\em Emanuel Gilvan Souza Lima Júnior}\n",
      "Graduate Program in Computer and Systems Engineering, State University of Maranhão. Thesis Title: A solution for data merger in dispute resolution platforms (in pt-BR). Role: \\textit{Co-supervisor}.\n",
      "\n",
      "\\item[2022]\n",
      "{\\em Fabiano Paulo Nhoatto}\n",
      "Intellectual Property and Technology Transfer for Innovation, Federal University of Western Pará. Thesis Title: Strategic support system for research and innovation management based on scientometrics (in pt-BR). Role: \\textit{Supervisor}.\n",
      "\n",
      "\\item[2019]\n",
      "{\\em Gustavo Nogueira de Sousa}\n",
      "Graduate Program in Computer and Systems Engineering, State University of Maranhão. Thesis Title: Automatic classification of advertisements on social media: a content-based approach (in pt-BR). Role: \\textit{Supervisor}.\n",
      "\n",
      "\\item[2019]\n",
      "{\\em Lucas Vinícius Araújo Caldas}\n",
      "Psychology (Theory and Research of Behavior), Federal University of Pará. Thesis Title: Data analysis of a virtual social network for sentiment analysis (in pt-BR). Role: \\textit{Co-supervisor}.\n",
      "\n"
     ]
    }
   ],
   "source": [
    "lista.reverse()\n",
    "for i in lista:\n",
    "    print(i)"
   ]
  },
  {
   "cell_type": "code",
   "execution_count": null,
   "id": "649f292c-8734-44ad-9ee0-0ef9295e213f",
   "metadata": {},
   "outputs": [],
   "source": []
  }
 ],
 "metadata": {
  "kernelspec": {
   "display_name": "Python 3 (ipykernel)",
   "language": "python",
   "name": "python3"
  },
  "language_info": {
   "codemirror_mode": {
    "name": "ipython",
    "version": 3
   },
   "file_extension": ".py",
   "mimetype": "text/x-python",
   "name": "python",
   "nbconvert_exporter": "python",
   "pygments_lexer": "ipython3",
   "version": "3.9.15"
  }
 },
 "nbformat": 4,
 "nbformat_minor": 5
}
